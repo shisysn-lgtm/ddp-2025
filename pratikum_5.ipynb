{
  "nbformat": 4,
  "nbformat_minor": 0,
  "metadata": {
    "colab": {
      "provenance": [],
      "authorship_tag": "ABX9TyP63a1RRC3u8xoK4enXGEbA",
      "include_colab_link": true
    },
    "kernelspec": {
      "name": "python3",
      "display_name": "Python 3"
    },
    "language_info": {
      "name": "python"
    }
  },
  "cells": [
    {
      "cell_type": "markdown",
      "metadata": {
        "id": "view-in-github",
        "colab_type": "text"
      },
      "source": [
        "<a href=\"https://colab.research.google.com/github/shisysn-lgtm/ddp-2025/blob/main/pratikum_5.ipynb\" target=\"_parent\"><img src=\"https://colab.research.google.com/assets/colab-badge.svg\" alt=\"Open In Colab\"/></a>"
      ]
    },
    {
      "cell_type": "code",
      "execution_count": null,
      "metadata": {
        "id": "g-SeeZ-Z4QIU",
        "colab": {
          "base_uri": "https://localhost:8080/"
        },
        "outputId": "c44656e3-0f25-4149-e487-572e0f49f524"
      },
      "outputs": [
        {
          "output_type": "stream",
          "name": "stdout",
          "text": [
            "['Beat Ember', 'motor', 200, 'hitam', 2]\n",
            "['Beat Ember', 'motor', 200, 'hitam', 2, 5000, 'metic']\n",
            "['Beat Ember', 'motor', 'Honda', 200, 'hitam', 2, 5000, 'metic']\n"
          ]
        }
      ],
      "source": [
        "namaKendaraan = \"Beat Ember\"\n",
        "jenisKendaraan = \"motor\"\n",
        "ccKendaraan = 200\n",
        "warnaKendaraan = \"hitam\"\n",
        "rodaKendaraan = 2\n",
        "\n",
        "data_kendaraan = [\n",
        "    namaKendaraan, jenisKendaraan, ccKendaraan, warnaKendaraan, rodaKendaraan\n",
        "]\n",
        "print(data_kendaraan)\n",
        "\n",
        "hargaKendaraan = 5000\n",
        "tipeKendaraan = \"metic\"\n",
        "\n",
        "data_kendaraan .append(hargaKendaraan)\n",
        "data_kendaraan .append(tipeKendaraan)\n",
        "print(data_kendaraan)\n",
        "\n",
        "merekKendaraan = \"Honda\"\n",
        "data_kendaraan .insert(2, merekKendaraan)\n",
        "print(data_kendaraan)\n"
      ]
    },
    {
      "cell_type": "code",
      "source": [
        "Pilihan = input(\"\"\"\n",
        "Silahkan pilih menu yang diinginkan\n",
        "===================================\n",
        "1. Luas Persegi\n",
        "2. Luas Lingkaran\n",
        "3. Luas  Segitiga\n",
        "===================================\n",
        "\"\"\")\n",
        "pilihan = int(input(\"masukan pilihan\"))\n",
        "match pilihan:\n",
        "    case 1:\n",
        "        sisi = int(input(\"Masukkan panjang sisi: \"))\n",
        "        luas = sisi * sisi\n",
        "        print(\"Luas persegi =\", luas)\n",
        "    case 2:\n",
        "        r = int(input(\"Masukkan jari-jari lingkaran: \"))\n",
        "        luas = 3.14 * r * r\n",
        "        print(\"Luas lingkaran =\", luas)\n",
        "    case 3:\n",
        "        alas = int(input(\"Masukkan alas segitiga: \"))\n",
        "        tinggi = int(input(\"Masukkan tinggi segitiga: \"))\n",
        "        luas = 0.5 * alas * tinggi\n",
        "        print(\"Luas segitiga =\", luas)\n",
        "    case _:\n",
        "        print(\"Salah pilih!\")\n",
        "\n"
      ],
      "metadata": {
        "colab": {
          "base_uri": "https://localhost:8080/"
        },
        "id": "dMeBq1ST9uC_",
        "outputId": "d881a7a4-c49a-4237-c1a5-b03eeb60cffd"
      },
      "execution_count": null,
      "outputs": [
        {
          "output_type": "stream",
          "name": "stdout",
          "text": [
            "\n",
            "Silahkan pilih menu yang diinginkan\n",
            "===================================\n",
            "1. Luas Persegi\n",
            "2. Luas Lingkaran\n",
            "3. Luas  Segitiga\n",
            "===================================\n",
            "2\n",
            "masukan pilihan2\n",
            "Masukkan jari-jari lingkaran: 3\n",
            "Luas lingkaran = 28.259999999999998\n"
          ]
        }
      ]
    },
    {
      "cell_type": "code",
      "source": [],
      "metadata": {
        "id": "TxkBuPMV-KlE"
      },
      "execution_count": null,
      "outputs": []
    }
  ]
}