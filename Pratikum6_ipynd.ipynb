{
  "cells": [
    {
      "cell_type": "markdown",
      "metadata": {
        "id": "view-in-github",
        "colab_type": "text"
      },
      "source": [
        "<a href=\"https://colab.research.google.com/github/shisysn-lgtm/ddp-2025/blob/main/Pratikum6_ipynd.ipynb\" target=\"_parent\"><img src=\"https://colab.research.google.com/assets/colab-badge.svg\" alt=\"Open In Colab\"/></a>"
      ]
    },
    {
      "cell_type": "code",
      "execution_count": null,
      "metadata": {
        "colab": {
          "base_uri": "https://localhost:8080/"
        },
        "id": "W2zGvmBO7Ag3",
        "outputId": "80427e57-6d24-4ec9-ef7a-c0dcde45ef47"
      },
      "outputs": [
        {
          "name": "stdout",
          "output_type": "stream",
          "text": [
            "951\n",
            "651\n",
            "69\n",
            "319\n",
            "601\n",
            "485\n",
            "507\n",
            "725\n",
            "547\n",
            "615\n",
            "83\n",
            "165\n",
            "141\n",
            "501\n",
            "263\n",
            "617\n",
            "865\n",
            "575\n",
            "219\n",
            "105\n",
            "941\n",
            "47\n",
            "907\n",
            "375\n",
            "823\n",
            "597\n",
            "615\n",
            "953\n",
            "345\n",
            "399\n",
            "219\n",
            "237\n",
            "949\n",
            "687\n",
            "217\n",
            "815\n",
            "67\n",
            "767\n"
          ]
        }
      ],
      "source": [
        "#print semua bilangan gamiil daei list beriskut,\n",
        "#hentikan perulangan ketika sudah melewati bilangan 553\n",
        "#pakai perulangab while.\n",
        "\n",
        "numbers = [\n",
        " 951, 402, 984, 651, 360, 69, 408,\n",
        " 319, 601, 485, 980, 507, 725, 547,\n",
        " 544,  615, 83, 165, 141, 501, 263,\n",
        " 617, 865, 575, 219, 390, 984, 592,\n",
        " 236, 105, 942, 941,  386, 462, 47,\n",
        " 418, 907, 344, 236, 375, 823, 566,\n",
        " 597, 978, 328, 615, 953, 345,  399,\n",
        " 162, 758, 219, 918, 237, 412, 566,\n",
        " 826, 248, 866, 950, 626, 949, 687,\n",
        " 217, 815, 67, 104, 58, 512, 24, 892,\n",
        " 894, 767, 553, 81, 379, 843, 831, 445,\n",
        " 742, 717, 958, 609, 842, 451, 688, 753,\n",
        " 854, 685, 93, 857, 440, 380, 126, 721,\n",
        " 328, 753, 470, 743, 527 ]\n",
        "\n",
        "index = 0 #untuk menampung nilai\n",
        "while index <= len(numbers):\n",
        " if numbers[index] == 553: #kondisi untuk mencari indek 553\n",
        "   break\n",
        " if numbers[index] %2 == 1: #kondisi untuk mencetak nilai ganjil\n",
        "   print(numbers[index])\n",
        " index += 1"
      ]
    },
    {
      "cell_type": "code",
      "execution_count": null,
      "metadata": {
        "colab": {
          "base_uri": "https://localhost:8080/"
        },
        "id": "rPw9m3Wt878L",
        "outputId": "5b44f2f5-7528-4b48-9d35-625fbc7045d3"
      },
      "outputs": [
        {
          "output_type": "stream",
          "name": "stdout",
          "text": [
            "1+3+5+7+9+11+13+15+17+19 = 100\n"
          ]
        }
      ],
      "source": [
        "#Buat lah output dari menggunakan bahasa pemprograman python dengan :\n",
        "#1+3+5+7+9+11+13+15+17+19=....\n",
        "\n",
        "jumlah = 0 #variable untuk menyimpan nilai\n",
        "string = \"\" #untuk membaca tanda +\n",
        "\n",
        "bilangan = 1\n",
        "while bilangan <= 19: #untuk melakukan peluangan sebanyak 19x\n",
        "  jumlah += bilangan\n",
        "  string += str(bilangan)\n",
        "  if bilangan <19:\n",
        "     string += '+'\n",
        "  bilangan += 2\n",
        "print(string, '=' ,jumlah )"
      ]
    },
    {
      "cell_type": "code",
      "source": [
        "# Buat program untuk minta input jumlah baris dan buat\n",
        "#rangkaian berikut ini\n",
        "# *\n",
        "# **\n",
        "# ***\n",
        "# ****\n",
        "# *****\n",
        "\n",
        "baris = int(input('masukan angka: '))\n",
        "for i in range(1, baris + 1):\n",
        "  print('*' * i)\n"
      ],
      "metadata": {
        "colab": {
          "base_uri": "https://localhost:8080/"
        },
        "id": "8RGyOVFDFlSn",
        "outputId": "82a8a8cf-56ed-4d85-cb87-fa73d6c1d031"
      },
      "execution_count": null,
      "outputs": [
        {
          "output_type": "stream",
          "name": "stdout",
          "text": [
            "masukan angka: 5\n",
            "*\n",
            "**\n",
            "***\n",
            "****\n",
            "*****\n"
          ]
        }
      ]
    }
  ],
  "metadata": {
    "colab": {
      "provenance": [],
      "authorship_tag": "ABX9TyMmKk3e1tSF4IvMldgWYpks",
      "include_colab_link": true
    },
    "kernelspec": {
      "display_name": "Python 3",
      "name": "python3"
    },
    "language_info": {
      "name": "python"
    }
  },
  "nbformat": 4,
  "nbformat_minor": 0
}